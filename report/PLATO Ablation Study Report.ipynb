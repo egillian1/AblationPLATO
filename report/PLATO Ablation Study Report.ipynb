{
 "cells": [
  {
   "cell_type": "markdown",
   "metadata": {},
   "source": [
    "# PLATO Ablation Study\n",
    "## Intro\n",
    "PLATO is a dialogue generation model. What distinguishes it from other dialogue generation models is that it has a discrete latent variable to mitigate problems with other text generation models. Such problems include:\n",
    "\n",
    "1. The mismatch between the structure of general text and the structure of human conversations. The differences can be (e.g.) linguistic structure, vocabulary and grammar, which poses a problem when training with one type of data and expecting a different type of output.\n",
    "2. Dialogue generation can have many \"correct\" solutions, as opposed to single solutions for many other NLP tasks.\n",
    "\n",
    "While the latent variable mitigates many problems, it's primary purpose is to help with this one-to-many relationship of a dialogue's context to possible next sentences in the dialogue.\n",
    "\n",
    "## Loss Functions\n",
    "The model relies on a combination of 3 different loss functions for the purpose of training. In the following notation, $c$ represents the dialogue context, $r$ is an example of an appropriate reply and $z$ is the discrete hidden variable added to the model. The first loss function is the classic Negative Log Likelihood (NLL) loss.\n",
    "\n",
    "$$\\mathcal{L}_{NLL} = - E_{z ~ p(\\bf{z}|c,r)}$$\n",
    "\n",
    "The second loss function is the classic bag of words loss.\n",
    "\n",
    "$$BOW Loss$$\n",
    "\n",
    "The third is a bespoke loss for response selection\n",
    "\n",
    "## Example text\n",
    "\n",
    "This is some plain text that forms a paragraph.\n",
    "Add emphasis via **bold** and __bold__, or *italic* and _italic_.\n",
    "Paragraphs must be separated by an empty line.\n",
    "* Sometimes we want to include lists.\n",
    "* Which can be indented.\n",
    "1. Lists can also be numbered.\n",
    "2. For ordered lists.\n",
    "[It is possible to include hyperlinks](https://www.example.com)\n",
    "Inline code uses single backticks: `foo()`, and code blocks use triple backticks:\n",
    "```\n",
    "bar()\n",
    "```\n",
    "Or can be indented by 4 spaces:\n",
    "    foo()\n",
    "And finally, adding images is easy: ![Alt text](https://www.example.com/image.jpg)"
   ]
  },
  {
   "cell_type": "code",
   "execution_count": 5,
   "metadata": {
    "scrolled": true
   },
   "outputs": [
    {
     "name": "stdout",
     "output_type": "stream",
     "text": [
      "This is stuff\n"
     ]
    }
   ],
   "source": [
    "print(\"This is stuff\")"
   ]
  },
  {
   "cell_type": "code",
   "execution_count": null,
   "metadata": {},
   "outputs": [],
   "source": []
  }
 ],
 "metadata": {
  "kernelspec": {
   "display_name": "Python 3",
   "language": "python",
   "name": "python3"
  },
  "language_info": {
   "codemirror_mode": {
    "name": "ipython",
    "version": 3
   },
   "file_extension": ".py",
   "mimetype": "text/x-python",
   "name": "python",
   "nbconvert_exporter": "python",
   "pygments_lexer": "ipython3",
   "version": "3.7.4"
  }
 },
 "nbformat": 4,
 "nbformat_minor": 4
}
